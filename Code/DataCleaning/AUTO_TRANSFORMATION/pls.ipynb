{
 "metadata": {
  "kernelspec": {
   "display_name": "Python 3",
   "language": "python",
   "name": "python3"
  },
  "language_info": {
   "codemirror_mode": {
    "name": "ipython",
    "version": 3
   },
   "file_extension": ".py",
   "mimetype": "text/x-python",
   "name": "python",
   "nbconvert_exporter": "python",
   "pygments_lexer": "ipython3",
   "version": "3.8.10"
  }
 },
 "nbformat": 4,
 "nbformat_minor": 5,
 "cells": [
  {
   "cell_type": "code",
   "metadata": {
    "collapsed": false
   },
   "source": "from snowflake.snowpark import Session\nfrom snowflake.snowpark.functions import col, xmlget\nfrom snowflake.connector.pandas_tools import write_pandas\nimport modin.pandas as pd\nimport pandas\nimport snowflake.snowpark.modin.plugin\nimport xmltodict\npd.set_option('display.max_columns', None)\nsession = Session.builder.configs({\n    \"account\": \"<your_account>\",\n    \"user\": \"<your_user>\",\n    \"password\": \"<your_password>\",\n    \"role\": \"<your_role>\",\n    \"warehouse\": \"<your_warehouse>\",\n    \"database\": \"<your_database>\",\n    \"schema\": \"<your_schema>\"\n}).create()",
   "execution_count": null,
   "outputs": []
  },
  {
   "cell_type": "code",
   "metadata": {},
   "source": "SalesStoreData = pd.read_snowflake(\"SALES_STORE\")\nSalesStoreData = pd.to_pandas(SalesStoreData)\nSalesStoreData.head()",
   "execution_count": null,
   "outputs": []
  },
  {
   "cell_type": "code",
   "metadata": {},
   "source": "def parse_xml(xml_data):\n    \"\"\"Parse the XML data into a dictionary and extract StoreSurvey section.\"\"\"\n    parsed_dict = xmltodict.parse(xml_data)\n    store_survey = parsed_dict.get(\"StoreSurvey\", {})\n    return store_survey",
   "execution_count": null,
   "outputs": []
  },
  {
   "cell_type": "code",
   "metadata": {},
   "source": "parsed_columns = SalesStoreData[\"DEMOGRAPHICS\"].apply(parse_xml)\n\n# Create a new DataFrame from the parsed data\nparsed_df = pd.json_normalize(parsed_columns)\nparsed_df = pd.to_pandas(parsed_df)\nparsed_df.head()",
   "execution_count": null,
   "outputs": []
  },
  {
   "cell_type": "code",
   "metadata": {},
   "source": "# Merge the parsed columns back with the original DataFrame\nSalesStoreDataCleaned = pandas.concat([SalesStoreData, parsed_df], axis=1)\nSalesStoreDataCleaned.head(5)",
   "execution_count": null,
   "outputs": []
  },
  {
   "cell_type": "code",
   "metadata": {},
   "source": "# Drop the unnecessary columns\nSalesStoreDataCleaned = SalesStoreDataCleaned.drop(columns=[\"DEMOGRAPHICS\", \"@xmlns\"])\nSalesStoreDataCleaned.head()",
   "execution_count": null,
   "outputs": []
  },
  {
   "cell_type": "code",
   "metadata": {},
   "source": "# Reset index\nSalesStoreDataCleaned = SalesStoreDataCleaned.reset_index(drop=True)\n\n# Send the cleaned data to the Snowflake database table\nSalesStore_df = Session.write_pandas(\n    self=session,\n    df=SalesStoreDataCleaned,\n    table_name=\"SALES_STORE_CLEANED\",\n    auto_create_table=True,\n    overwrite=True\n)",
   "execution_count": null,
   "outputs": []
  }
 ]
}
