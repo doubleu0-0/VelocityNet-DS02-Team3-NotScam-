{
 "metadata": {
  "kernelspec": {
   "display_name": "Python 3",
   "language": "python",
   "name": "python3"
  },
  "language_info": {
   "codemirror_mode": {
    "name": "ipython",
    "version": 3
   },
   "file_extension": ".py",
   "mimetype": "text/x-python",
   "name": "python",
   "nbconvert_exporter": "python",
   "pygments_lexer": "ipython3",
   "version": "3.8.10"
  }
 },
 "nbformat": 4,
 "nbformat_minor": 5,
 "cells": [
  {
   "cell_type": "markdown",
   "metadata": {},
   "source": "# Snowflake Data Cleaning\n\nThis notebook demonstrates cleaning data from the `SALES_STORE` table in Snowflake by:\n\n1. Reading data from Snowflake.\n2. Parsing the `DEMOGRAPHICS` column (XML data).\n3. Normalizing the XML data into a structured DataFrame.\n4. Saving the cleaned data back to Snowflake."
  },
  {
   "cell_type": "code",
   "metadata": {},
   "source": "from snowflake.snowpark import Session\nfrom snowflake.snowpark.functions import col, xmlget\nfrom snowflake.connector.pandas_tools import write_pandas\nimport modin.pandas as pd\nimport pandas\nimport snowflake.snowpark.modin.plugin\nimport xmltodict",
   "execution_count": null,
   "outputs": []
  },
  {
   "cell_type": "markdown",
   "metadata": {},
   "source": "## Initialize Snowflake Session\n\nThe following cell initializes the Snowflake session. Replace the placeholders with your actual Snowflake credentials."
  },
  {
   "cell_type": "code",
   "metadata": {},
   "source": "def get_session():\n    \"\"\"Initialize Snowflake session.\"\"\"\n    return Session.builder.configs(\n        {\n            \"account\": \"sfedu02-bob84066\",\n            \"user\": \"FALCON\",\n            \"password\": \"Snowflake1\",\n            \"role\": \"TEAM3_DEVELOPER\",\n            \"warehouse\": \"TEAM3_WH\",\n            \"database\": \"TEAM3_DB\",\n            \"schema\": \"TEAM3_SCHEMA\",\n        }\n    ).create()\n\n# Initialize the session\nsession = get_session()",
   "execution_count": null,
   "outputs": []
  },
  {
   "cell_type": "markdown",
   "metadata": {},
   "source": "## Define XML Parsing Function\n\nThe following function parses XML data from the `DEMOGRAPHICS` column into a dictionary, extracting the `StoreSurvey` section."
  },
  {
   "cell_type": "code",
   "metadata": {},
   "source": "def parse_xml(xml_data):\n    \"\"\"Parse the XML data into a dictionary and extract StoreSurvey section.\"\"\"\n    parsed_dict = xmltodict.parse(xml_data)\n    store_survey = parsed_dict.get(\"StoreSurvey\", {})\n    return store_survey",
   "execution_count": null,
   "outputs": []
  },
  {
   "cell_type": "markdown",
   "metadata": {},
   "source": "## Clean `SALES_STORE` Data\n\nThis function performs the following steps:\n\n1. Reads the `SALES_STORE` table from Snowflake.\n2. Parses the `DEMOGRAPHICS` column using the `parse_xml` function.\n3. Normalizes the parsed XML data into a new DataFrame.\n4. Merges the parsed data back into the original DataFrame.\n5. Drops unnecessary columns.\n6. Writes the cleaned data back to Snowflake."
  },
  {
   "cell_type": "code",
   "metadata": {},
   "source": "def clean_sales_store_data(session):\n    \"\"\"Clean the SALES_STORE data and save it back to Snowflake.\"\"\"\n    pd.set_option(\"display.max_columns\", None)\n\n    # Read data from Snowflake\n    SalesStoreData = pd.read_snowflake(\"SALES_STORE\")\n    SalesStoreData = pd.to_pandas(SalesStoreData)\n\n    # Parse the DEMOGRAPHICS column\n    parsed_columns = SalesStoreData[\"DEMOGRAPHICS\"].apply(parse_xml)\n\n    # Create a new DataFrame from the parsed data\n    parsed_df = pd.json_normalize(parsed_columns)\n    parsed_df = pd.to_pandas(parsed_df)\n\n    # Merge the parsed columns back with the original DataFrame\n    SalesStoreDataCleaned = pandas.concat([SalesStoreData, parsed_df], axis=1)\n    SalesStoreDataCleaned = SalesStoreDataCleaned.drop(columns=[\"DEMOGRAPHICS\", \"@xmlns\"])\n    SalesStoreDataCleaned = SalesStoreDataCleaned.reset_index(drop=True)\n\n    # Write the cleaned data back to Snowflake\n    Session.write_pandas(\n        self=session,\n        df=SalesStoreDataCleaned,\n        table_name=\"SALES_STORE_CLEANED\",\n        auto_create_table=True,\n        overwrite=True,\n    )\n    return SalesStoreDataCleaned",
   "execution_count": null,
   "outputs": []
  },
  {
   "cell_type": "markdown",
   "metadata": {},
   "source": "## Execute the Cleaning Process\n\nThe following cell calls the `clean_sales_store_data` function to clean and save the data back to Snowflake."
  },
  {
   "cell_type": "code",
   "metadata": {},
   "source": "# Clean the data\ncleaned_data = clean_sales_store_data(session)\n\n# Display the first few rows of the cleaned data\ncleaned_data.head()",
   "execution_count": null,
   "outputs": []
  }
 ]
}
