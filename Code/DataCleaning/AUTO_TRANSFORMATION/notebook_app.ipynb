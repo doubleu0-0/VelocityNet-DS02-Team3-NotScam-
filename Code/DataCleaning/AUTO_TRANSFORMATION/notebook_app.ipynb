{
 "metadata": {
  "kernelspec": {
   "display_name": "Streamlit Notebook",
   "name": "streamlit"
  },
  "lastEditStatus": {
   "notebookId": "wwm3pmjtoxpxylq6ynnh",
   "authorId": "848797293968",
   "authorName": "FERRET",
   "authorEmail": "",
   "sessionId": "66ed7f2a-a8c7-4e1b-bdf3-ef951b238a41",
   "lastEditTime": 1737180476666
  }
 },
 "nbformat_minor": 5,
 "nbformat": 4,
 "cells": [
  {
   "cell_type": "code",
   "id": "bc79a39b-f31f-4652-aea6-bbc80a58ed85",
   "metadata": {
    "language": "python",
    "name": "cell1",
    "collapsed": false,
    "resultHeight": 0
   },
   "outputs": [],
   "source": [
    "from snowflake.snowpark import Session\n",
    "from snowflake.snowpark.functions import col, xmlget\n",
    "from snowflake.connector.pandas_tools import write_pandas\n",
    "from snowflake.snowpark.context import get_active_session\n",
    "import modin.pandas as pd\n",
    "import pandas\n",
    "import snowflake.snowpark.modin.plugin\n",
    "import xmltodict\n",
    "\n",
    "pd.set_option(\"display.max_columns\", None)\n",
    "session = get_active_session()"
   ],
   "execution_count": null
  },
  {
   "cell_type": "code",
   "id": "a5d163fe-c3cc-4965-9ffa-6840caa9fa20",
   "metadata": {
    "language": "python",
    "name": "cell2",
    "resultHeight": 251
   },
   "outputs": [],
   "source": [
    "SalesStoreData = pd.read_snowflake(\"SALES_STORE\")\n",
    "SalesStoreData = pd.to_pandas(SalesStoreData)\n",
    "SalesStoreData.head()"
   ],
   "execution_count": null
  },
  {
   "cell_type": "code",
   "id": "43960049-320f-4c0c-a6f6-b3bc10000445",
   "metadata": {
    "language": "python",
    "name": "cell3",
    "resultHeight": 0
   },
   "outputs": [],
   "source": "# Parse XML data in the column\ndef parse_xml(xml_data):\n    # Parse the XML into a dictionary\n    parsed_dict = xmltodict.parse(xml_data)\n    # Extract the StoreSurvey section\n    store_survey = parsed_dict.get(\"StoreSurvey\", {})\n    return store_survey",
   "execution_count": null
  },
  {
   "cell_type": "code",
   "id": "eaf43f20-2779-4ed4-8d1f-54633539973e",
   "metadata": {
    "language": "python",
    "name": "cell4",
    "resultHeight": 251
   },
   "outputs": [],
   "source": [
    "parsed_columns = SalesStoreData[\"DEMOGRAPHICS\"].apply(parse_xml)\n",
    "\n",
    "# Create a new DataFrame from the parsed data\n",
    "parsed_df = pd.json_normalize(parsed_columns)\n",
    "parsed_df = pd.to_pandas(parsed_df)\n",
    "parsed_df.head()"
   ],
   "execution_count": null
  },
  {
   "cell_type": "code",
   "id": "7dbeb09d-8e82-4d06-bc7a-f4185885f194",
   "metadata": {
    "language": "python",
    "name": "cell5",
    "resultHeight": 251
   },
   "outputs": [],
   "source": [
    "# Merge the parsed columns back with the original DataFrame\n",
    "SalesStoreDataCleaned = pandas.concat([SalesStoreData, parsed_df], axis=1)\n",
    "SalesStoreDataCleaned.head(5)"
   ],
   "execution_count": null
  },
  {
   "cell_type": "code",
   "id": "1702a1c0-aeda-491c-a7f7-e7985aa0c734",
   "metadata": {
    "language": "python",
    "name": "cell6",
    "resultHeight": 251
   },
   "outputs": [],
   "source": "# Drop the unnecessary columns\nSalesStoreDataCleaned = SalesStoreDataCleaned.drop(columns=[\"DEMOGRAPHICS\", \"@xmlns\"])\nSalesStoreDataCleaned.head()",
   "execution_count": null
  },
  {
   "cell_type": "code",
   "id": "cd40e581-c704-4daa-9b82-2b740fa25765",
   "metadata": {
    "language": "python",
    "name": "cell7",
    "resultHeight": 0
   },
   "outputs": [],
   "source": [
    "# Reset index\n",
    "SalesStoreDataCleaned = SalesStoreDataCleaned.reset_index(drop=True)\n",
    "# send the cleaned data to the snowfalke db table\n",
    "SalesStore_df = Session.write_pandas(\n",
    "    self=session, df=SalesStoreDataCleaned, table_name=\"SALES_STORE_CLEANED\", auto_create_table=True, overwrite=True\n",
    ")"
   ],
   "execution_count": null
  }
 ]
}